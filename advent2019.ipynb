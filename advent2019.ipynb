{
 "cells": [
  {
   "cell_type": "markdown",
   "metadata": {},
   "source": [
    "# Day 2: 1202 Program Alarm"
   ]
  },
  {
   "cell_type": "markdown",
   "metadata": {},
   "source": [
    "### Part 1"
   ]
  },
  {
   "cell_type": "code",
   "execution_count": 21,
   "metadata": {},
   "outputs": [],
   "source": [
    "def run_next(arr, start):\n",
    "    next_arr = arr[start:]\n",
    "    if len(next_arr) == 0:\n",
    "        raise ValueError('No code to execute')\n",
    "    \n",
    "    if next_arr[0] != 99 and len(next_arr) < 4:\n",
    "        raise ValueError('Invalid code')\n",
    "        \n",
    "    opcode = next_arr[0]\n",
    "    \n",
    "    if opcode == 99:\n",
    "        return False\n",
    "    \n",
    "    loc1 = next_arr[1]\n",
    "    loc2 = next_arr[2]\n",
    "    loc3 = next_arr[3]\n",
    "    \n",
    "    if opcode == 1:\n",
    "        arr[loc3] = arr[loc1] + arr[loc2]\n",
    "    elif opcode == 2:\n",
    "        arr[loc3] = arr[loc1] * arr[loc2]\n",
    "    else:\n",
    "        raise ValueError('Invalid opcode')\n",
    "        \n",
    "    return True"
   ]
  },
  {
   "cell_type": "code",
   "execution_count": 22,
   "metadata": {},
   "outputs": [],
   "source": [
    "test_input = [1,9,10,3,2,3,11,0,99,30,40,50]"
   ]
  },
  {
   "cell_type": "code",
   "execution_count": 23,
   "metadata": {},
   "outputs": [
    {
     "name": "stdout",
     "output_type": "stream",
     "text": [
      "True [1, 9, 10, 70, 2, 3, 11, 0, 99, 30, 40, 50]\n"
     ]
    }
   ],
   "source": [
    "print(run_next(test_input, 0), test_input)"
   ]
  },
  {
   "cell_type": "code",
   "execution_count": 24,
   "metadata": {},
   "outputs": [
    {
     "name": "stdout",
     "output_type": "stream",
     "text": [
      "True [3500, 9, 10, 70, 2, 3, 11, 0, 99, 30, 40, 50]\n"
     ]
    }
   ],
   "source": [
    "print(run_next(test_input, 4), test_input)"
   ]
  },
  {
   "cell_type": "code",
   "execution_count": 25,
   "metadata": {},
   "outputs": [
    {
     "name": "stdout",
     "output_type": "stream",
     "text": [
      "False [3500, 9, 10, 70, 2, 3, 11, 0, 99, 30, 40, 50]\n"
     ]
    }
   ],
   "source": [
    "print(run_next(test_input, 8), test_input)"
   ]
  },
  {
   "cell_type": "code",
   "execution_count": 38,
   "metadata": {},
   "outputs": [],
   "source": [
    "def run_program(arr):\n",
    "    start = 0\n",
    "    while (start < len(arr)) and run_next(arr, start):\n",
    "        start += 4"
   ]
  },
  {
   "cell_type": "code",
   "execution_count": 41,
   "metadata": {},
   "outputs": [
    {
     "name": "stdout",
     "output_type": "stream",
     "text": [
      "[3500, 9, 10, 70, 2, 3, 11, 0, 99, 30, 40, 50]\n"
     ]
    }
   ],
   "source": [
    "test_input = [1,9,10,3,2,3,11,0,99,30,40,50]\n",
    "run_program(test_input)\n",
    "print(test_input)"
   ]
  },
  {
   "cell_type": "code",
   "execution_count": 46,
   "metadata": {},
   "outputs": [],
   "source": [
    "def run_1202(code):\n",
    "    code[1] = 12\n",
    "    code[2] = 2\n",
    "    run_program(code)\n",
    "    print(code[0])"
   ]
  },
  {
   "cell_type": "code",
   "execution_count": 43,
   "metadata": {},
   "outputs": [],
   "source": [
    "sample_input = [1,0,0,3,1,1,2,3,1,3,4,3,1,5,0,3,2,10,1,19,2,9,19,23,2,13,23,27,1,6,27,31,2,6,31,35,2,13,35,39,1,39,10,43,2,43,13,47,1,9,47,51,1,51,13,55,1,55,13,59,2,59,13,63,1,63,6,67,2,6,67,71,1,5,71,75,2,6,75,79,1,5,79,83,2,83,6,87,1,5,87,91,1,6,91,95,2,95,6,99,1,5,99,103,1,6,103,107,1,107,2,111,1,111,5,0,99,2,14,0,0]"
   ]
  },
  {
   "cell_type": "code",
   "execution_count": 44,
   "metadata": {},
   "outputs": [
    {
     "name": "stdout",
     "output_type": "stream",
     "text": [
      "2890696\n"
     ]
    }
   ],
   "source": [
    "run_1202(sample_input[:])"
   ]
  },
  {
   "cell_type": "code",
   "execution_count": 47,
   "metadata": {},
   "outputs": [],
   "source": [
    "def run_1202_params(code, noun, verb):\n",
    "    code[1] = noun\n",
    "    code[2] = verb\n",
    "    run_program(code)\n",
    "    return code[0]"
   ]
  },
  {
   "cell_type": "code",
   "execution_count": 48,
   "metadata": {},
   "outputs": [
    {
     "data": {
      "text/plain": [
       "2890696"
      ]
     },
     "execution_count": 48,
     "metadata": {},
     "output_type": "execute_result"
    }
   ],
   "source": [
    "run_1202_params(sample_input[:], 12, 2)"
   ]
  },
  {
   "cell_type": "code",
   "execution_count": 52,
   "metadata": {},
   "outputs": [],
   "source": [
    "def find_noun_verb(code):\n",
    "    for i in range(100):\n",
    "        for j in range(100):\n",
    "            if run_1202_params(code[:], i, j) == 19690720:\n",
    "                return 100 * i + j"
   ]
  },
  {
   "cell_type": "code",
   "execution_count": 53,
   "metadata": {},
   "outputs": [
    {
     "data": {
      "text/plain": [
       "8226"
      ]
     },
     "execution_count": 53,
     "metadata": {},
     "output_type": "execute_result"
    }
   ],
   "source": [
    "find_noun_verb(sample_input[:])"
   ]
  },
  {
   "cell_type": "code",
   "execution_count": null,
   "metadata": {},
   "outputs": [],
   "source": []
  }
 ],
 "metadata": {
  "kernelspec": {
   "display_name": "Python 3",
   "language": "python",
   "name": "python3"
  },
  "language_info": {
   "codemirror_mode": {
    "name": "ipython",
    "version": 3
   },
   "file_extension": ".py",
   "mimetype": "text/x-python",
   "name": "python",
   "nbconvert_exporter": "python",
   "pygments_lexer": "ipython3",
   "version": "3.7.0"
  }
 },
 "nbformat": 4,
 "nbformat_minor": 2
}
